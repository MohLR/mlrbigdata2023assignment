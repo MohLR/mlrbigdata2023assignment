{
  "nbformat": 4,
  "nbformat_minor": 0,
  "metadata": {
    "colab": {
      "provenance": []
    },
    "kernelspec": {
      "name": "python3",
      "display_name": "Python 3"
    },
    "language_info": {
      "name": "python"
    }
  },
  "cells": [
    {
      "cell_type": "code",
      "source": [
        "!pip install pyspark"
      ],
      "metadata": {
        "id": "7j3BLHs68vp3",
        "colab": {
          "base_uri": "https://localhost:8080/"
        },
        "outputId": "1018dbad-bb71-40d8-a43c-abd5514e75f3"
      },
      "execution_count": 2,
      "outputs": [
        {
          "output_type": "stream",
          "name": "stdout",
          "text": [
            "Looking in indexes: https://pypi.org/simple, https://us-python.pkg.dev/colab-wheels/public/simple/\n",
            "Collecting pyspark\n",
            "  Downloading pyspark-3.3.2.tar.gz (281.4 MB)\n",
            "\u001b[2K     \u001b[90m━━━━━━━━━━━━━━━━━━━━━━━━━━━━━━━━━━━━━━━\u001b[0m \u001b[32m281.4/281.4 MB\u001b[0m \u001b[31m5.2 MB/s\u001b[0m eta \u001b[36m0:00:00\u001b[0m\n",
            "\u001b[?25h  Preparing metadata (setup.py) ... \u001b[?25l\u001b[?25hdone\n",
            "Collecting py4j==0.10.9.5\n",
            "  Downloading py4j-0.10.9.5-py2.py3-none-any.whl (199 kB)\n",
            "\u001b[2K     \u001b[90m━━━━━━━━━━━━━━━━━━━━━━━━━━━━━━━━━━━━━━\u001b[0m \u001b[32m199.7/199.7 kB\u001b[0m \u001b[31m23.8 MB/s\u001b[0m eta \u001b[36m0:00:00\u001b[0m\n",
            "\u001b[?25hBuilding wheels for collected packages: pyspark\n",
            "  Building wheel for pyspark (setup.py) ... \u001b[?25l\u001b[?25hdone\n",
            "  Created wheel for pyspark: filename=pyspark-3.3.2-py2.py3-none-any.whl size=281824028 sha256=4f66d8da92c55e415b4771233a1cc46c98d80b31b190b852f9b567d441f41188\n",
            "  Stored in directory: /root/.cache/pip/wheels/6c/e3/9b/0525ce8a69478916513509d43693511463c6468db0de237c86\n",
            "Successfully built pyspark\n",
            "Installing collected packages: py4j, pyspark\n",
            "  Attempting uninstall: py4j\n",
            "    Found existing installation: py4j 0.10.9.7\n",
            "    Uninstalling py4j-0.10.9.7:\n",
            "      Successfully uninstalled py4j-0.10.9.7\n",
            "Successfully installed py4j-0.10.9.5 pyspark-3.3.2\n"
          ]
        }
      ]
    },
    {
      "cell_type": "code",
      "source": [
        "# Import Apache Spark SQL\n",
        "from pyspark.sql import SparkSession\n",
        "\n",
        "# Create Spark Session/Context\n",
        "# We are using local machine with all the CPU cores [*]\n",
        "spark = SparkSession.builder \\\n",
        "    .master(\"local[*]\") \\\n",
        "    .appName(\"Hello Pyspark\") \\\n",
        "    .config(\"spark.some.config.option\", \"some-value\") \\\n",
        "    .getOrCreate()"
      ],
      "metadata": {
        "id": "WAFpOYVIAatu"
      },
      "execution_count": 3,
      "outputs": []
    },
    {
      "cell_type": "code",
      "source": [
        "# Check spark session\n",
        "spark"
      ],
      "metadata": {
        "colab": {
          "base_uri": "https://localhost:8080/",
          "height": 219
        },
        "id": "Ah7QG6CvBs3M",
        "outputId": "119bfe12-935f-4d61-de4d-e2575c7111ba"
      },
      "execution_count": 4,
      "outputs": [
        {
          "output_type": "execute_result",
          "data": {
            "text/plain": [
              "<pyspark.sql.session.SparkSession at 0x7f62082512e0>"
            ],
            "text/html": [
              "\n",
              "            <div>\n",
              "                <p><b>SparkSession - in-memory</b></p>\n",
              "                \n",
              "        <div>\n",
              "            <p><b>SparkContext</b></p>\n",
              "\n",
              "            <p><a href=\"http://3b96075e5eaa:4040\">Spark UI</a></p>\n",
              "\n",
              "            <dl>\n",
              "              <dt>Version</dt>\n",
              "                <dd><code>v3.3.2</code></dd>\n",
              "              <dt>Master</dt>\n",
              "                <dd><code>local[*]</code></dd>\n",
              "              <dt>AppName</dt>\n",
              "                <dd><code>Hello Pyspark</code></dd>\n",
              "            </dl>\n",
              "        </div>\n",
              "        \n",
              "            </div>\n",
              "        "
            ]
          },
          "metadata": {},
          "execution_count": 4
        }
      ]
    },
    {
      "cell_type": "code",
      "source": [
        "from google.colab import drive\n",
        "drive.mount('/content/gdrive')"
      ],
      "metadata": {
        "colab": {
          "base_uri": "https://localhost:8080/"
        },
        "id": "b2HqdJJOCUz8",
        "outputId": "939ed33f-fed2-4113-87fa-7c976220bb8a"
      },
      "execution_count": 6,
      "outputs": [
        {
          "output_type": "stream",
          "name": "stdout",
          "text": [
            "Mounted at /content/gdrive\n"
          ]
        }
      ]
    },
    {
      "cell_type": "code",
      "source": [
        "from pyspark.sql import Row\n",
        "\n",
        "lines = spark.read.text(\"/content/gdrive/My Drive/My File/sample_movielens_ratings.txt\").rdd\n",
        "parts = lines.map(lambda row: row.value.split(\"::\"))\n",
        "ratingsRDD = parts.map(lambda p: Row(userId=int(p[0]), movieId=int(p[1]),\n",
        "                                     rating=float(p[2]), timestamp=int(p[3])))\n",
        "ratings = spark.createDataFrame(ratingsRDD)\n",
        "(training, test) = ratings.randomSplit([0.8, 0.2])"
      ],
      "metadata": {
        "id": "7JOyrUEzCHo7"
      },
      "execution_count": 21,
      "outputs": []
    },
    {
      "cell_type": "code",
      "source": [
        "from pyspark.ml.recommendation import ALS\n",
        "from pyspark.ml.evaluation import RegressionEvaluator\n",
        "\n",
        "# Build the recommendation model using ALS on the training data\n",
        "# Note we set cold start strategy to 'drop' to ensure we don't get NaN evaluation metrics\n",
        "iters=[3, 5, 10, 15, 20]\n",
        "regPars=[0.01, 0.03, 0.05, 0.08, 0.1]\n",
        "for regPar in regPars:\n",
        "  for iter in iters:\n",
        "    als = ALS(maxIter=iter, regParam=regPar, userCol=\"userId\", itemCol=\"movieId\", ratingCol=\"rating\",\n",
        "              coldStartStrategy=\"drop\")\n",
        "    model = als.fit(training)\n",
        "\n",
        "    # Evaluate the model by computing the RMSE on the test data\n",
        "    predictions = model.transform(test)\n",
        "    evaluator = RegressionEvaluator(metricName=\"rmse\", labelCol=\"rating\",\n",
        "                                    predictionCol=\"prediction\")\n",
        "    rmse = evaluator.evaluate(predictions)\n",
        "    print(\"Root-mean-square error for maxIter=\" + str(iter) + \" and regParam=\" + str(regPar) + \" : \" + str(rmse))"
      ],
      "metadata": {
        "colab": {
          "base_uri": "https://localhost:8080/"
        },
        "id": "9h9SI8ghDWek",
        "outputId": "4ae5360b-d72b-4e55-a054-303414648cdc"
      },
      "execution_count": 29,
      "outputs": [
        {
          "output_type": "stream",
          "name": "stdout",
          "text": [
            "Root-mean-square error for maxIter=3 and regParam=0.01 : 1.9675776127303766\n",
            "Root-mean-square error for maxIter=5 and regParam=0.01 : 1.895122903970421\n",
            "Root-mean-square error for maxIter=10 and regParam=0.01 : 1.8370303554287901\n",
            "Root-mean-square error for maxIter=15 and regParam=0.01 : 1.8206128834151993\n",
            "Root-mean-square error for maxIter=20 and regParam=0.01 : 1.804200008849716\n",
            "Root-mean-square error for maxIter=3 and regParam=0.03 : 1.6225927893852579\n",
            "Root-mean-square error for maxIter=5 and regParam=0.03 : 1.5529094774512684\n",
            "Root-mean-square error for maxIter=10 and regParam=0.03 : 1.4534616691361113\n",
            "Root-mean-square error for maxIter=15 and regParam=0.03 : 1.3831134897902422\n",
            "Root-mean-square error for maxIter=20 and regParam=0.03 : 1.3137164453998869\n",
            "Root-mean-square error for maxIter=3 and regParam=0.05 : 1.4633368793237\n",
            "Root-mean-square error for maxIter=5 and regParam=0.05 : 1.3813056357512077\n",
            "Root-mean-square error for maxIter=10 and regParam=0.05 : 1.2849902443644219\n",
            "Root-mean-square error for maxIter=15 and regParam=0.05 : 1.210154573159245\n",
            "Root-mean-square error for maxIter=20 and regParam=0.05 : 1.1509914227296112\n",
            "Root-mean-square error for maxIter=3 and regParam=0.08 : 1.3144455011735385\n",
            "Root-mean-square error for maxIter=5 and regParam=0.08 : 1.2391208455573879\n",
            "Root-mean-square error for maxIter=10 and regParam=0.08 : 1.1709679731832063\n",
            "Root-mean-square error for maxIter=15 and regParam=0.08 : 1.1360874136546404\n",
            "Root-mean-square error for maxIter=20 and regParam=0.08 : 1.101522699527692\n",
            "Root-mean-square error for maxIter=3 and regParam=0.1 : 1.252396582787029\n",
            "Root-mean-square error for maxIter=5 and regParam=0.1 : 1.1808413621647387\n",
            "Root-mean-square error for maxIter=10 and regParam=0.1 : 1.119746392382171\n",
            "Root-mean-square error for maxIter=15 and regParam=0.1 : 1.092194431631991\n",
            "Root-mean-square error for maxIter=20 and regParam=0.1 : 1.0790750065347854\n"
          ]
        }
      ]
    },
    {
      "cell_type": "markdown",
      "source": [
        "From the different hyperparameter that we have tried, we can conclude that the higher the regParam and maxIter, the better the model perform. But, we can't try a higher regParam or maxIter than what we have tried, because a stackoverflow problem"
      ],
      "metadata": {
        "id": "_4FYypSUODoP"
      }
    }
  ]
}